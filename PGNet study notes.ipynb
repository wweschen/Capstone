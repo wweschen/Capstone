{
 "cells": [
  {
   "cell_type": "markdown",
   "metadata": {},
   "source": [
    "## PGNet study notes:\n",
    "\n",
    "### Abigail See et al: Get To The Point: Summarization with Pointer-Generator Networks https://arxiv.org/pdf/1704.04368.pdf  \n",
    "implementation code: https://github.com/abisee/pointer-generator\n",
    "\n",
    "\n",
    "PGNet is a seq3seq (encode-decode on sequence) model with two additions: \n",
    "1. introduced a gate to interpolate bewteen copying words verse selecting words based on likelihood with in vocabulary.\n",
    "2. introduced a coverage to penalize repeated use the same word. \n",
    "\n",
    "\n",
    "\n"
   ]
  }
 ],
 "metadata": {
  "kernelspec": {
   "display_name": "Python 3",
   "language": "python",
   "name": "python3"
  },
  "language_info": {
   "codemirror_mode": {
    "name": "ipython",
    "version": 3
   },
   "file_extension": ".py",
   "mimetype": "text/x-python",
   "name": "python",
   "nbconvert_exporter": "python",
   "pygments_lexer": "ipython3",
   "version": "3.7.4"
  }
 },
 "nbformat": 4,
 "nbformat_minor": 2
}
